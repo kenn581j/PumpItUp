{
 "cells": [
  {
   "cell_type": "markdown",
   "metadata": {},
   "source": [
    "# Pump it Up Data Mining the Water Table\n",
    "## Import and reading of data"
   ]
  },
  {
   "cell_type": "code",
   "execution_count": null,
   "metadata": {},
   "outputs": [],
   "source": [
    "%config IPCompleter.greedy=True"
   ]
  },
  {
   "cell_type": "code",
   "execution_count": null,
   "metadata": {},
   "outputs": [],
   "source": [
    "import pandas as pd\n",
    "import numpy as np\n",
    "from sklearn.preprocessing import LabelEncoder\n",
    "from sklearn.preprocessing import MinMaxScaler\n",
    "from sklearn.linear_model import LogisticRegression\n",
    "from sklearn.preprocessing import OneHotEncoder\n",
    "from sklearn.ensemble import RandomForestClassifier"
   ]
  },
  {
   "cell_type": "code",
   "execution_count": null,
   "metadata": {},
   "outputs": [],
   "source": [
    "pump_training_values = pd.read_csv('Pump_it_up_data/training_values.csv')\n",
    "pump_training_labels = pd.read_csv('Pump_it_up_data/training_labels.csv')\n",
    "pump_test_values = pd.read_csv('Pump_it_up_data/test_values.csv')"
   ]
  },
  {
   "cell_type": "markdown",
   "metadata": {},
   "source": [
    "## Getting an overview of the data\n",
    "\n",
    "Atom is also used to view the cvs files"
   ]
  },
  {
   "cell_type": "code",
   "execution_count": null,
   "metadata": {
    "scrolled": true
   },
   "outputs": [],
   "source": [
    "print(pump_training_values.describe())"
   ]
  },
  {
   "cell_type": "code",
   "execution_count": null,
   "metadata": {
    "scrolled": true
   },
   "outputs": [],
   "source": [
    "print(pump_training_values.info())"
   ]
  },
  {
   "cell_type": "code",
   "execution_count": null,
   "metadata": {
    "scrolled": true
   },
   "outputs": [],
   "source": [
    "pump_training_values['scheme_name']"
   ]
  },
  {
   "cell_type": "markdown",
   "metadata": {},
   "source": [
    "## Preprocessing\n",
    "\n",
    "#### Filling the NaN values with the mean value from each collum"
   ]
  },
  {
   "cell_type": "code",
   "execution_count": null,
   "metadata": {
    "scrolled": true
   },
   "outputs": [],
   "source": [
    "print(pump_training_values.isnull().sum())\n",
    "\n",
    "pump_training_values.fillna(pump_training_values.mean(), inplace=True)\n",
    "pump_test_values.fillna(pump_test_values.mean(), inplace=True)\n",
    "\n",
    "print(pump_training_values.isnull().sum())"
   ]
  },
  {
   "cell_type": "code",
   "execution_count": null,
   "metadata": {
    "scrolled": true
   },
   "outputs": [],
   "source": [
    "pump_training_values['permit']"
   ]
  },
  {
   "cell_type": "code",
   "execution_count": null,
   "metadata": {},
   "outputs": [],
   "source": [
    "for col in pump_training_values:\n",
    "    if pump_training_values[col].dtypes == 'object':\n",
    "        pump_training_values = pump_training_values.fillna(pump_training_values[col].value_counts().index[0])\n",
    "        \n",
    "for col in pump_test_values:\n",
    "    if pump_test_values[col].dtypes == 'object':\n",
    "        pump_test_values = pump_test_values.fillna(pump_test_values[col].value_counts().index[0])"
   ]
  },
  {
   "cell_type": "code",
   "execution_count": null,
   "metadata": {
    "scrolled": true
   },
   "outputs": [],
   "source": [
    "print(pump_training_values.isnull().sum())\n",
    "\n",
    "print(pump_test_values.isnull().sum())"
   ]
  },
  {
   "cell_type": "code",
   "execution_count": null,
   "metadata": {},
   "outputs": [],
   "source": [
    "pump_training_values"
   ]
  },
  {
   "cell_type": "markdown",
   "metadata": {},
   "source": [
    "## Feature Selection\n",
    "<ol>\n",
    "    <li>wpt_name</li>\n",
    "    <li>num_private</li>\n",
    "    <li>scheme_name - 28166 values are missing</li>"
   ]
  },
  {
   "cell_type": "code",
   "execution_count": null,
   "metadata": {},
   "outputs": [],
   "source": [
    "pump_training_values = pump_training_values.drop(['id','wpt_name', 'num_private', 'scheme_name','date_recorded'], axis = 1)\n",
    "pump_test_values = pump_test_values.drop(['id','wpt_name', 'num_private', 'scheme_name','date_recorded'], axis = 1)"
   ]
  },
  {
   "cell_type": "markdown",
   "metadata": {},
   "source": [
    "### Converting non-numeric values to numeric\n",
    "\n",
    "Label Encoder from scikit-learn - Out commented\n",
    "\n",
    "Get_Dummies from pandas"
   ]
  },
  {
   "cell_type": "code",
   "execution_count": null,
   "metadata": {},
   "outputs": [],
   "source": [
    "le = LabelEncoder()\n",
    "\n",
    "for col in pump_training_values:\n",
    "    if pump_training_values[col].dtypes == 'object':\n",
    "        pump_training_values[col] = le.fit_transform(pump_training_values[col])\n",
    "\n",
    "for col in pump_test_values:\n",
    "    if pump_test_values[col].dtypes == 'object':\n",
    "        pump_test_values[col] = le.fit_transform(pump_test_values[col])\n",
    "        \n",
    "        \n",
    "pump_training_labels_1d = pump_training_labels.drop(['id'], axis = 1)\n",
    "\n",
    "for col in pump_training_labels_1d:\n",
    "    if pump_training_labels_1d[col].dtypes == 'object':\n",
    "        pump_training_labels_1d[col] = le.fit_transform(pump_training_labels_1d[col])"
   ]
  },
  {
   "cell_type": "code",
   "execution_count": null,
   "metadata": {},
   "outputs": [],
   "source": [
    "#pd.get_dummies(pump_training_values)\n",
    "#pd.get_dummies(pump_test_values)"
   ]
  },
  {
   "cell_type": "code",
   "execution_count": null,
   "metadata": {
    "scrolled": true
   },
   "outputs": [],
   "source": [
    "pump_training_values.info()"
   ]
  },
  {
   "cell_type": "code",
   "execution_count": null,
   "metadata": {},
   "outputs": [],
   "source": [
    "pump_training_values.describe()"
   ]
  },
  {
   "cell_type": "markdown",
   "metadata": {},
   "source": [
    "## Data Scaling"
   ]
  },
  {
   "cell_type": "code",
   "execution_count": null,
   "metadata": {},
   "outputs": [],
   "source": [
    "scaler = MinMaxScaler(feature_range = (-1,1))\n",
    "rescaled_pump_training_values = scaler.fit_transform(pump_training_values)\n",
    "rescaled_pump_test_values = scaler.fit_transform(pump_test_values)"
   ]
  },
  {
   "cell_type": "markdown",
   "metadata": {},
   "source": [
    "## Model fitting, writing to cvs with proper submission layout"
   ]
  },
  {
   "cell_type": "code",
   "execution_count": null,
   "metadata": {},
   "outputs": [],
   "source": [
    "pump_training_labels_1d = pump_training_labels_1d.to_numpy()"
   ]
  },
  {
   "cell_type": "code",
   "execution_count": null,
   "metadata": {},
   "outputs": [],
   "source": [
    "#logreg = LogisticRegression(max_iter = 1000)\n",
    "rfc = RandomForestClassifier()\n",
    "rfc.fit(rescaled_pump_training_values, pump_training_labels_1d.ravel())\n",
    "#logreg.fit(rescaled_pump_training_values, pump_training_labels_1d.ravel())"
   ]
  },
  {
   "cell_type": "code",
   "execution_count": null,
   "metadata": {},
   "outputs": [],
   "source": [
    "#pump_pred_labels = logreg.predict(rescaled_pump_test_values)\n",
    "pump_pred_labels = rfc.predict(rescaled_pump_test_values)"
   ]
  },
  {
   "cell_type": "code",
   "execution_count": null,
   "metadata": {},
   "outputs": [],
   "source": [
    "pump_pred_labels"
   ]
  },
  {
   "cell_type": "code",
   "execution_count": null,
   "metadata": {
    "scrolled": true
   },
   "outputs": [],
   "source": [
    "submission_format = pd.read_csv('Pump_it_up_data/SubmissionFormat.csv')\n",
    "\n",
    "data = {'status_group':pump_pred_labels}\n",
    "index = submission_format['id']\n",
    "\n",
    "index"
   ]
  },
  {
   "cell_type": "code",
   "execution_count": null,
   "metadata": {},
   "outputs": [],
   "source": [
    "submission = pd.DataFrame(data, index)"
   ]
  },
  {
   "cell_type": "code",
   "execution_count": null,
   "metadata": {},
   "outputs": [],
   "source": [
    "submission = submission.replace(0, 'functional')\n",
    "submission = submission.replace(1, 'functional needs repair')\n",
    "submission = submission.replace(2, 'non functional')"
   ]
  },
  {
   "cell_type": "code",
   "execution_count": null,
   "metadata": {},
   "outputs": [],
   "source": [
    "submission.to_csv('Pump_it_up_data/pred_labels_RandomForest.csv')"
   ]
  },
  {
   "cell_type": "code",
   "execution_count": null,
   "metadata": {},
   "outputs": [],
   "source": []
  }
 ],
 "metadata": {
  "kernelspec": {
   "display_name": "Python 3",
   "language": "python",
   "name": "python3"
  },
  "language_info": {
   "codemirror_mode": {
    "name": "ipython",
    "version": 3
   },
   "file_extension": ".py",
   "mimetype": "text/x-python",
   "name": "python",
   "nbconvert_exporter": "python",
   "pygments_lexer": "ipython3",
   "version": "3.7.4"
  }
 },
 "nbformat": 4,
 "nbformat_minor": 4
}
